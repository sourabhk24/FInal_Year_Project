{
  "cells": [
    {
      "cell_type": "markdown",
      "metadata": {
        "id": "view-in-github",
        "colab_type": "text"
      },
      "source": [
        "<a href=\"https://colab.research.google.com/github/sourabhk24/FInal_Year_Project/blob/main/Landslide.ipynb\" target=\"_parent\"><img src=\"https://colab.research.google.com/assets/colab-badge.svg\" alt=\"Open In Colab\"/></a>"
      ]
    },
    {
      "cell_type": "code",
      "execution_count": null,
      "metadata": {
        "id": "KcQeoERMqPz2"
      },
      "outputs": [],
      "source": [
        "from numpy import mean\n",
        "from numpy import std\n",
        "from sklearn.ensemble import GradientBoostingClassifier\n",
        "from lightgbm import LGBMClassifier\n",
        "from sklearn.model_selection import cross_val_score\n",
        "from sklearn.model_selection import RepeatedStratifiedKFold\n",
        "import matplotlib.pyplot as plt\n",
        "import seaborn as sns\n",
        "import pandas as pd\n",
        "from sklearn.neighbors import KNeighborsClassifier\n",
        "from sklearn.metrics import matthews_corrcoef\n",
        "from sklearn.metrics import f1_score\n",
        "from sklearn.metrics import accuracy_score\n",
        "from sklearn.metrics import recall_score\n",
        "from sklearn.metrics import precision_score\n",
        "from sklearn.metrics import precision_recall_curve\n",
        "from sklearn.metrics import roc_auc_score\n",
        "\n",
        "from sklearn.metrics import classification_report\n",
        "from sklearn.model_selection import GridSearchCV"
      ]
    },
    {
      "cell_type": "code",
      "execution_count": null,
      "metadata": {
        "id": "FCA4UMwNqqti"
      },
      "outputs": [],
      "source": [
        "!pip install scitime"
      ]
    },
    {
      "cell_type": "code",
      "execution_count": null,
      "metadata": {
        "colab": {
          "base_uri": "https://localhost:8080/",
          "height": 38
        },
        "id": "tjVjGDyjq1l-",
        "outputId": "5d145a15-b82e-464f-afa2-383b06744f00"
      },
      "outputs": [
        {
          "output_type": "display_data",
          "data": {
            "text/plain": [
              "<IPython.core.display.HTML object>"
            ],
            "text/html": [
              "\n",
              "     <input type=\"file\" id=\"files-b3b19756-12d6-452a-8109-643ac042ac1f\" name=\"files[]\" multiple disabled\n",
              "        style=\"border:none\" />\n",
              "     <output id=\"result-b3b19756-12d6-452a-8109-643ac042ac1f\">\n",
              "      Upload widget is only available when the cell has been executed in the\n",
              "      current browser session. Please rerun this cell to enable.\n",
              "      </output>\n",
              "      <script>// Copyright 2017 Google LLC\n",
              "//\n",
              "// Licensed under the Apache License, Version 2.0 (the \"License\");\n",
              "// you may not use this file except in compliance with the License.\n",
              "// You may obtain a copy of the License at\n",
              "//\n",
              "//      http://www.apache.org/licenses/LICENSE-2.0\n",
              "//\n",
              "// Unless required by applicable law or agreed to in writing, software\n",
              "// distributed under the License is distributed on an \"AS IS\" BASIS,\n",
              "// WITHOUT WARRANTIES OR CONDITIONS OF ANY KIND, either express or implied.\n",
              "// See the License for the specific language governing permissions and\n",
              "// limitations under the License.\n",
              "\n",
              "/**\n",
              " * @fileoverview Helpers for google.colab Python module.\n",
              " */\n",
              "(function(scope) {\n",
              "function span(text, styleAttributes = {}) {\n",
              "  const element = document.createElement('span');\n",
              "  element.textContent = text;\n",
              "  for (const key of Object.keys(styleAttributes)) {\n",
              "    element.style[key] = styleAttributes[key];\n",
              "  }\n",
              "  return element;\n",
              "}\n",
              "\n",
              "// Max number of bytes which will be uploaded at a time.\n",
              "const MAX_PAYLOAD_SIZE = 100 * 1024;\n",
              "\n",
              "function _uploadFiles(inputId, outputId) {\n",
              "  const steps = uploadFilesStep(inputId, outputId);\n",
              "  const outputElement = document.getElementById(outputId);\n",
              "  // Cache steps on the outputElement to make it available for the next call\n",
              "  // to uploadFilesContinue from Python.\n",
              "  outputElement.steps = steps;\n",
              "\n",
              "  return _uploadFilesContinue(outputId);\n",
              "}\n",
              "\n",
              "// This is roughly an async generator (not supported in the browser yet),\n",
              "// where there are multiple asynchronous steps and the Python side is going\n",
              "// to poll for completion of each step.\n",
              "// This uses a Promise to block the python side on completion of each step,\n",
              "// then passes the result of the previous step as the input to the next step.\n",
              "function _uploadFilesContinue(outputId) {\n",
              "  const outputElement = document.getElementById(outputId);\n",
              "  const steps = outputElement.steps;\n",
              "\n",
              "  const next = steps.next(outputElement.lastPromiseValue);\n",
              "  return Promise.resolve(next.value.promise).then((value) => {\n",
              "    // Cache the last promise value to make it available to the next\n",
              "    // step of the generator.\n",
              "    outputElement.lastPromiseValue = value;\n",
              "    return next.value.response;\n",
              "  });\n",
              "}\n",
              "\n",
              "/**\n",
              " * Generator function which is called between each async step of the upload\n",
              " * process.\n",
              " * @param {string} inputId Element ID of the input file picker element.\n",
              " * @param {string} outputId Element ID of the output display.\n",
              " * @return {!Iterable<!Object>} Iterable of next steps.\n",
              " */\n",
              "function* uploadFilesStep(inputId, outputId) {\n",
              "  const inputElement = document.getElementById(inputId);\n",
              "  inputElement.disabled = false;\n",
              "\n",
              "  const outputElement = document.getElementById(outputId);\n",
              "  outputElement.innerHTML = '';\n",
              "\n",
              "  const pickedPromise = new Promise((resolve) => {\n",
              "    inputElement.addEventListener('change', (e) => {\n",
              "      resolve(e.target.files);\n",
              "    });\n",
              "  });\n",
              "\n",
              "  const cancel = document.createElement('button');\n",
              "  inputElement.parentElement.appendChild(cancel);\n",
              "  cancel.textContent = 'Cancel upload';\n",
              "  const cancelPromise = new Promise((resolve) => {\n",
              "    cancel.onclick = () => {\n",
              "      resolve(null);\n",
              "    };\n",
              "  });\n",
              "\n",
              "  // Wait for the user to pick the files.\n",
              "  const files = yield {\n",
              "    promise: Promise.race([pickedPromise, cancelPromise]),\n",
              "    response: {\n",
              "      action: 'starting',\n",
              "    }\n",
              "  };\n",
              "\n",
              "  cancel.remove();\n",
              "\n",
              "  // Disable the input element since further picks are not allowed.\n",
              "  inputElement.disabled = true;\n",
              "\n",
              "  if (!files) {\n",
              "    return {\n",
              "      response: {\n",
              "        action: 'complete',\n",
              "      }\n",
              "    };\n",
              "  }\n",
              "\n",
              "  for (const file of files) {\n",
              "    const li = document.createElement('li');\n",
              "    li.append(span(file.name, {fontWeight: 'bold'}));\n",
              "    li.append(span(\n",
              "        `(${file.type || 'n/a'}) - ${file.size} bytes, ` +\n",
              "        `last modified: ${\n",
              "            file.lastModifiedDate ? file.lastModifiedDate.toLocaleDateString() :\n",
              "                                    'n/a'} - `));\n",
              "    const percent = span('0% done');\n",
              "    li.appendChild(percent);\n",
              "\n",
              "    outputElement.appendChild(li);\n",
              "\n",
              "    const fileDataPromise = new Promise((resolve) => {\n",
              "      const reader = new FileReader();\n",
              "      reader.onload = (e) => {\n",
              "        resolve(e.target.result);\n",
              "      };\n",
              "      reader.readAsArrayBuffer(file);\n",
              "    });\n",
              "    // Wait for the data to be ready.\n",
              "    let fileData = yield {\n",
              "      promise: fileDataPromise,\n",
              "      response: {\n",
              "        action: 'continue',\n",
              "      }\n",
              "    };\n",
              "\n",
              "    // Use a chunked sending to avoid message size limits. See b/62115660.\n",
              "    let position = 0;\n",
              "    do {\n",
              "      const length = Math.min(fileData.byteLength - position, MAX_PAYLOAD_SIZE);\n",
              "      const chunk = new Uint8Array(fileData, position, length);\n",
              "      position += length;\n",
              "\n",
              "      const base64 = btoa(String.fromCharCode.apply(null, chunk));\n",
              "      yield {\n",
              "        response: {\n",
              "          action: 'append',\n",
              "          file: file.name,\n",
              "          data: base64,\n",
              "        },\n",
              "      };\n",
              "\n",
              "      let percentDone = fileData.byteLength === 0 ?\n",
              "          100 :\n",
              "          Math.round((position / fileData.byteLength) * 100);\n",
              "      percent.textContent = `${percentDone}% done`;\n",
              "\n",
              "    } while (position < fileData.byteLength);\n",
              "  }\n",
              "\n",
              "  // All done.\n",
              "  yield {\n",
              "    response: {\n",
              "      action: 'complete',\n",
              "    }\n",
              "  };\n",
              "}\n",
              "\n",
              "scope.google = scope.google || {};\n",
              "scope.google.colab = scope.google.colab || {};\n",
              "scope.google.colab._files = {\n",
              "  _uploadFiles,\n",
              "  _uploadFilesContinue,\n",
              "};\n",
              "})(self);\n",
              "</script> "
            ]
          },
          "metadata": {}
        }
      ],
      "source": [
        "from google.colab import files\n",
        "\n",
        "\n",
        "uploaded = files.upload()"
      ]
    },
    {
      "cell_type": "code",
      "execution_count": null,
      "metadata": {
        "id": "sob2Ps8lrb2N"
      },
      "outputs": [],
      "source": [
        "import pandas as pd\n",
        "import io\n",
        "\n",
        "df = pd.read_csv(io.BytesIO(uploaded['Complete-data.csv']))\n",
        "print(df)"
      ]
    },
    {
      "cell_type": "code",
      "execution_count": null,
      "metadata": {
        "id": "FCLY2h5-ry1T"
      },
      "outputs": [],
      "source": []
    },
    {
      "cell_type": "markdown",
      "metadata": {
        "id": "o9ovflvfsnKk"
      },
      "source": [
        "# **EDA**"
      ]
    },
    {
      "cell_type": "code",
      "execution_count": null,
      "metadata": {
        "id": "4Yx9bJ7tsrr7"
      },
      "outputs": [],
      "source": [
        "df"
      ]
    },
    {
      "cell_type": "code",
      "execution_count": null,
      "metadata": {
        "id": "e_fuR8gJsywn"
      },
      "outputs": [],
      "source": [
        "df.info()"
      ]
    },
    {
      "cell_type": "code",
      "execution_count": null,
      "metadata": {
        "id": "tUFY5wI8suTc"
      },
      "outputs": [],
      "source": [
        "df.describe()"
      ]
    },
    {
      "cell_type": "code",
      "execution_count": null,
      "metadata": {
        "id": "Rgn0A0Qps5yZ"
      },
      "outputs": [],
      "source": [
        "temp_cols=df.columns.tolist()\n",
        "new_cols=temp_cols[1:] + temp_cols[0:1]\n",
        "df=df[new_cols]"
      ]
    },
    {
      "cell_type": "code",
      "execution_count": null,
      "metadata": {
        "id": "hCctgOhdtBv1"
      },
      "outputs": [],
      "source": [
        "df.describe().round(2)"
      ]
    },
    {
      "cell_type": "code",
      "execution_count": null,
      "metadata": {
        "id": "uCzM6-XxtEQw"
      },
      "outputs": [],
      "source": [
        "for column in df.columns[0:]:\n",
        "    print(column, ': ', len(df[column].unique()), ' labels')"
      ]
    },
    {
      "cell_type": "code",
      "execution_count": null,
      "metadata": {
        "id": "idpvvsDztKDW"
      },
      "outputs": [],
      "source": [
        "landslide_count = df['Landslide'].value_counts()\n",
        "sns.set(style=\"darkgrid\")\n",
        "sns.countplot(x = 'Landslide', data = df)\n",
        "plt.title('Frequency Distribution of Landslides')\n",
        "plt.ylabel('Number of Occurrences', fontsize=12)\n",
        "plt.xlabel('Landslide', fontsize=12)\n"
      ]
    },
    {
      "cell_type": "code",
      "execution_count": null,
      "metadata": {
        "id": "imFmnOrQtSD8"
      },
      "outputs": [],
      "source": [
        "perc_count = df['Precipitation'].value_counts()\n",
        "sns.set(style=\"darkgrid\")\n",
        "sns.barplot(perc_count.index)\n",
        "plt.title('Frequency Distribution of Precipitation')\n",
        "plt.ylabel('Number of Occurrences', fontsize=12)\n",
        "plt.xlabel('Precipitation', fontsize=12)\n",
        "plt.show()\n",
        "\n",
        "plt.savefig('bar2.eps', format='eps')"
      ]
    },
    {
      "cell_type": "code",
      "execution_count": null,
      "metadata": {
        "id": "kEfFD9xSuCFp"
      },
      "outputs": [],
      "source": [
        "lith_count = df['Lithology'].value_counts()\n",
        "sns.set(style=\"darkgrid\")\n",
        "sns.barplot(lith_count.index)\n",
        "plt.title('Frequency Distribution of Lithology')\n",
        "plt.ylabel('Number of Occurrences', fontsize=12)\n",
        "plt.xlabel('Lithology', fontsize=12)\n",
        "plt.show()\n",
        "\n",
        "plt.savefig('bar3.eps', format='eps')"
      ]
    },
    {
      "cell_type": "code",
      "execution_count": null,
      "metadata": {
        "id": "FRbBpDVRvHFg"
      },
      "outputs": [],
      "source": [
        "labels = df['Plan'].astype('category').cat.categories.tolist()\n",
        "counts = df['Plan'].value_counts()\n",
        "sizes = [counts[var_cat] for var_cat in labels]\n",
        "fig1, ax1 = plt.subplots()\n",
        "ax1.pie(sizes, labels=labels, autopct='%1.1f%%', shadow=True) #autopct is show the % on plot\n",
        "ax1.axis('equal')\n",
        "plt.title('Pieplot of Plan')\n",
        "plt.show()\n",
        "\n",
        "plt.savefig('pie1.eps', format='eps')"
      ]
    },
    {
      "cell_type": "code",
      "execution_count": null,
      "metadata": {
        "id": "gIJSqTFKvOjW"
      },
      "outputs": [],
      "source": [
        "labels = df['Flow'].astype('category').cat.categories.tolist()\n",
        "counts = df['Flow'].value_counts()\n",
        "sizes = [counts[var_cat] for var_cat in labels]\n",
        "fig1, ax1 = plt.subplots()\n",
        "ax1.pie(sizes, labels=labels, autopct='%1.1f%%', shadow=True) #autopct is show the % on plot\n",
        "ax1.axis('equal')\n",
        "plt.title('Pieplot of Flow')\n",
        "plt.show()\n",
        "\n",
        "plt.savefig('pie2.eps', format='eps')"
      ]
    },
    {
      "cell_type": "code",
      "execution_count": null,
      "metadata": {
        "id": "5QaQzIIhvWIo"
      },
      "outputs": [],
      "source": [
        "labels = df['Curvature'].astype('category').cat.categories.tolist()\n",
        "counts = df['Curvature'].value_counts()\n",
        "sizes = [counts[var_cat] for var_cat in labels]\n",
        "fig1, ax1 = plt.subplots()\n",
        "ax1.pie(sizes, labels=labels, autopct='%1.1f%%', shadow=True) #autopct is show the % on plot\n",
        "ax1.axis('equal')\n",
        "plt.title('Pieplot of Curvature')\n",
        "plt.show()\n",
        "\n",
        "plt.savefig('pie3.eps', format='eps')"
      ]
    },
    {
      "cell_type": "code",
      "execution_count": null,
      "metadata": {
        "id": "qVC8N37wvbcx"
      },
      "outputs": [],
      "source": [
        "sns.catplot(x=\"Landslide\", y=\"NDWI\", kind=\"swarm\", data=df)\n",
        "plt.xlabel('Landslide')\n",
        "plt.ylabel('NDWI')\n",
        "plt.title('Swarm plot of NDWI by Landslide')\n",
        "plt.savefig('box1.eps', format='eps')"
      ]
    },
    {
      "cell_type": "code",
      "execution_count": null,
      "metadata": {
        "id": "BihRLF3qvede"
      },
      "outputs": [],
      "source": [
        "sns.set_theme(style=\"ticks\")\n",
        "\n",
        "sns.pairplot(df)"
      ]
    },
    {
      "cell_type": "code",
      "execution_count": null,
      "metadata": {
        "id": "sRi_gKPXweDl"
      },
      "outputs": [],
      "source": [
        "plt.figure(figsize=(13, 13))\n",
        "sns.heatmap(df.corr(), annot=True)\n",
        "\n",
        "plt.show()\n",
        "\n",
        "plt.savefig('corr1.eps', format='eps')"
      ]
    },
    {
      "cell_type": "code",
      "execution_count": null,
      "metadata": {
        "id": "xkLO7Mylxhhh"
      },
      "outputs": [],
      "source": [
        "df.mean()"
      ]
    },
    {
      "cell_type": "code",
      "execution_count": null,
      "metadata": {
        "id": "ScB7y02lxm6N"
      },
      "outputs": [],
      "source": [
        "df.groupby(['Landslide']).mean()"
      ]
    },
    {
      "cell_type": "code",
      "execution_count": null,
      "metadata": {
        "id": "r3rqZhB-xz_u"
      },
      "outputs": [],
      "source": [
        "df.corr()"
      ]
    },
    {
      "cell_type": "code",
      "execution_count": null,
      "metadata": {
        "id": "c43GH5_Hx31d"
      },
      "outputs": [],
      "source": []
    },
    {
      "cell_type": "markdown",
      "metadata": {
        "id": "7B8HQ1SAx9pO"
      },
      "source": [
        "# Important Features using Mutual Information Classification¶"
      ]
    },
    {
      "cell_type": "code",
      "execution_count": null,
      "metadata": {
        "id": "Vcv3j3TIx_1T"
      },
      "outputs": [],
      "source": [
        "from sklearn.model_selection import train_test_split, StratifiedKFold"
      ]
    },
    {
      "cell_type": "code",
      "execution_count": null,
      "metadata": {
        "id": "6PkenquTyCiP"
      },
      "outputs": [],
      "source": [
        "train_ratio = 0.8\n",
        "val_ratio = 0.2\n",
        "train_df, val_df = train_test_split(df, train_size = train_ratio, random_state=42)"
      ]
    },
    {
      "cell_type": "code",
      "execution_count": null,
      "metadata": {
        "id": "4Ls-_jeXyGRk"
      },
      "outputs": [],
      "source": [
        "features = list(df.columns.values.tolist())\n",
        "df_feat = df.iloc[:, :-1]\n",
        "features_wo = list(df_feat.columns.values.tolist())"
      ]
    },
    {
      "cell_type": "code",
      "execution_count": null,
      "metadata": {
        "id": "qfGciOIkyLst"
      },
      "outputs": [],
      "source": [
        "df_feat.info()"
      ]
    },
    {
      "cell_type": "code",
      "execution_count": null,
      "metadata": {
        "id": "l-2QW9QkyYXm"
      },
      "outputs": [],
      "source": [
        "from sklearn.feature_selection import mutual_info_classif\n",
        "\n",
        "MI = (mutual_info_classif(df[features_wo], df[\"Landslide\"], n_neighbors=20,\n",
        "                          random_state=42))\n",
        "\n",
        "plt.figure(figsize=(5.4, 4))\n",
        "plt.barh(y=features_wo, width=MI, color=\"#990303\")\n",
        "plt.title(\"Mutual Information w.r.t. Landslide\");\n",
        "plt.xlabel(\"Landslide\")\n",
        "plt.gca().xaxis.grid(True, linestyle=':');\n",
        "plt.tight_layout()\n",
        "\n",
        "plt.savefig('mi.eps', format='eps')"
      ]
    },
    {
      "cell_type": "code",
      "execution_count": null,
      "metadata": {
        "id": "qWAXMfx_ykEs"
      },
      "outputs": [],
      "source": [
        "best3 = ['Precipitation', 'Earthquake', 'Aspect']\n",
        "best5 = ['Lithology', 'Flow']\n",
        "best5.extend(best3)\n",
        "best8 = ['Profile', 'NDWI', 'NDVI']\n",
        "best8.extend(best5)\n",
        "all_feat = features_wo\n",
        "\n",
        "feat  = [best3, best5, best8, all_feat]"
      ]
    },
    {
      "cell_type": "code",
      "execution_count": null,
      "metadata": {
        "id": "d_HPZKqfyc_0"
      },
      "outputs": [],
      "source": [
        "for i in feat:\n",
        "    print(df[i].head(2))"
      ]
    },
    {
      "cell_type": "code",
      "execution_count": null,
      "metadata": {
        "id": "ebWJmo58ynYL"
      },
      "outputs": [],
      "source": []
    },
    {
      "cell_type": "markdown",
      "metadata": {
        "id": "5BX9-AvqytX3"
      },
      "source": [
        "# Feature Engineering!"
      ]
    },
    {
      "cell_type": "code",
      "execution_count": null,
      "metadata": {
        "id": "lpF7epwdyxBH"
      },
      "outputs": [],
      "source": [
        "df.head()"
      ]
    },
    {
      "cell_type": "markdown",
      "metadata": {
        "id": "8eI--En1y4Qi"
      },
      "source": [
        "Frequency Encoding¶"
      ]
    },
    {
      "cell_type": "code",
      "execution_count": null,
      "metadata": {
        "id": "ilxQtYK1y4xg"
      },
      "outputs": [],
      "source": [
        "def add_freq_column(df, col_name):\n",
        "    col_freq = df[col_name].value_counts(normalize=True)\n",
        "    df[f'{col_name}_freq'] = df[col_name].apply(lambda x : col_freq[x])\n",
        "\n",
        "cols_to_freq = ['Aspect', 'Curvature', 'Earthquake', 'Elevation', 'Flow', 'Lithology', 'NDVI', 'NDWI', 'Plan', 'Precipitation', 'Profile', 'Slope']\n",
        "\n",
        "for col in cols_to_freq:\n",
        "    add_freq_column(df, col)"
      ]
    },
    {
      "cell_type": "code",
      "execution_count": null,
      "metadata": {
        "id": "nfhlSxDuy_30"
      },
      "outputs": [],
      "source": [
        "import pandas as pd"
      ]
    },
    {
      "cell_type": "code",
      "execution_count": null,
      "metadata": {
        "id": "5gdnByDe1Y-e"
      },
      "outputs": [],
      "source": [
        "df.columns"
      ]
    },
    {
      "cell_type": "code",
      "execution_count": null,
      "metadata": {
        "id": "VXcQVwuh2uPB"
      },
      "outputs": [],
      "source": [
        "# Complete dataframe with frequency variables and target variable\n",
        "df_comp = df.iloc[:, :13]\n",
        "\n",
        "# Dataframe with frequency variables and target variable\n",
        "df_freq = df.iloc[:, 12:]\n",
        "\n",
        "# Dataframe with frequency variables\n",
        "df_onlyfreq = df.iloc[:, 13:]"
      ]
    },
    {
      "cell_type": "code",
      "execution_count": null,
      "metadata": {
        "id": "J-SGBDoh3NLr"
      },
      "outputs": [],
      "source": [
        "plt.figure(figsize=(13, 13))\n",
        "sns.heatmap(df_freq.corr(), annot=True)\n",
        "\n",
        "plt.show()\n",
        "\n",
        "plt.savefig('corr2.eps', format='eps')"
      ]
    },
    {
      "cell_type": "code",
      "execution_count": null,
      "metadata": {
        "id": "Snj_BOgz3fHD"
      },
      "outputs": [],
      "source": []
    },
    {
      "cell_type": "markdown",
      "metadata": {
        "id": "1tdQbPLP4Q3d"
      },
      "source": [
        "Feature **Selection**"
      ]
    },
    {
      "cell_type": "code",
      "execution_count": null,
      "metadata": {
        "id": "w6B2DEKx4TeA"
      },
      "outputs": [],
      "source": [
        "from matplotlib.colors import ListedColormap\n",
        "from sklearn.model_selection import train_test_split\n",
        "from sklearn.preprocessing import StandardScaler\n",
        "from sklearn.datasets import make_moons, make_circles, make_classification\n",
        "from sklearn.linear_model import LogisticRegression\n",
        "from sklearn.model_selection import GridSearchCV\n",
        "from sklearn.pipeline import make_pipeline\n",
        "from sklearn.preprocessing import KBinsDiscretizer\n",
        "from sklearn.svm import SVC, LinearSVC\n",
        "from sklearn.ensemble import GradientBoostingClassifier\n",
        "from sklearn.utils._testing import ignore_warnings\n",
        "from sklearn.exceptions import ConvergenceWarning\n",
        "from sklearn import ensemble"
      ]
    },
    {
      "cell_type": "code",
      "execution_count": null,
      "metadata": {
        "id": "Md_YS38D4WKy"
      },
      "outputs": [],
      "source": [
        "!pip install pca"
      ]
    },
    {
      "cell_type": "code",
      "execution_count": null,
      "metadata": {
        "id": "qvKgpsDF4YpY"
      },
      "outputs": [],
      "source": [
        "from sklearn.preprocessing import StandardScaler"
      ]
    },
    {
      "cell_type": "code",
      "execution_count": null,
      "metadata": {
        "id": "Tf6Qobih4eGr"
      },
      "outputs": [],
      "source": [
        "from pca import pca\n",
        "\n",
        "X_pca = df.loc[:, df.columns != 'Landslide']\n",
        "\n",
        "# scaler = StandardScaler()\n",
        "# scaler.fit(X_pca)\n",
        "# X_pca = scaler.transform(X_pca)\n",
        "\n",
        "model = pca()\n",
        "out = model.fit_transform(X_pca)\n",
        "\n",
        "print(out['topfeat'])"
      ]
    },
    {
      "cell_type": "code",
      "execution_count": null,
      "metadata": {
        "id": "P4xe9LD34gTk"
      },
      "outputs": [],
      "source": [
        "model.plot()\n",
        "\n",
        "plt.savefig('pca1.eps', format='eps')"
      ]
    },
    {
      "cell_type": "code",
      "execution_count": null,
      "metadata": {
        "id": "bhyZAuST5KIw"
      },
      "outputs": [],
      "source": [
        "ax = model.biplot(n_feat=10, legend=False)\n",
        "\n",
        "plt.savefig('pca2.eps', format='eps')"
      ]
    },
    {
      "cell_type": "code",
      "execution_count": null,
      "metadata": {
        "id": "k_p7YmPf5ZWC"
      },
      "outputs": [],
      "source": [
        "ax = model.biplot3d(n_feat=10, legend=False)\n",
        "\n",
        "plt.savefig('pca3.eps', format='eps')"
      ]
    },
    {
      "cell_type": "code",
      "execution_count": null,
      "metadata": {
        "id": "fMa6ncBL52A_"
      },
      "outputs": [],
      "source": []
    },
    {
      "cell_type": "code",
      "execution_count": null,
      "metadata": {
        "id": "mpjkq3iT6pmb"
      },
      "outputs": [],
      "source": []
    },
    {
      "cell_type": "markdown",
      "metadata": {
        "id": "sQ0DD9fQ6o_I"
      },
      "source": [
        "# Baseline ***Model***"
      ]
    },
    {
      "cell_type": "code",
      "execution_count": null,
      "metadata": {
        "id": "oUiicRQI6uXB"
      },
      "outputs": [],
      "source": [
        "y = df.Landslide\n",
        "# y = df_freq.Landslide\n",
        "# df= df.loc[:, df.columns != 'Landslide']\n",
        "df1 = df.loc[:, df.columns != 'Landslide']\n",
        "# df1 = df.loc[:, ['NDWI', 'Curvature', 'Lithology', 'Precipitation', 'Aspect', 'Flow',\n",
        "#                 'Elevation', 'Profile', 'Earthquake']]\n",
        "# df1 = df_freq.loc[:, ['Lithology_freq', 'Flow_freq', 'Precipitation_freq', 'Earthquake_freq', 'Curvature_freq',\n",
        "#                 'Profile_freq', 'NDVI_freq', 'Aspect_freq']]\n",
        "X_train, X_test, y_train, y_test = train_test_split(df1, y, test_size=0.2)\n"
      ]
    },
    {
      "cell_type": "code",
      "execution_count": null,
      "metadata": {
        "id": "6qAAGlGx6xJf"
      },
      "outputs": [],
      "source": [
        "baseline_gbm = GradientBoostingClassifier(learning_rate=0.1, n_estimators=100,max_depth=3, min_samples_split=2,\n",
        "                                          min_samples_leaf=1, subsample=1,max_features='sqrt', random_state=10)\n",
        "baseline_gbm.fit(X_train,y_train)\n",
        "predictors_gbm=list(X_train)\n",
        "# feat_imp_gbm = pd.Series(baseline_gbm.feature_importances_, predictors_gbm).sort_values(ascending=False)\n",
        "# feat_imp_gbm.plot(kind='bar', title='Importance of Features Using GBM')\n",
        "# plt.ylabel('Feature Importance Score')\n",
        "print('Accuracy of the GBM on test set: {:.3f}'.format(baseline_gbm.score(X_test, y_test)))\n",
        "pred_gbm=baseline_gbm.predict(X_test)\n",
        "print(classification_report(y_test, pred_gbm))\n"
      ]
    },
    {
      "cell_type": "code",
      "execution_count": null,
      "metadata": {
        "id": "St1MZqbK66KH"
      },
      "outputs": [],
      "source": [
        "baseline_lgbm = LGBMClassifier(learning_rate=0.1, n_estimators=100,max_depth=3,\n",
        "                          #min_samples_split=2,\n",
        "                          min_samples_leaf=1, subsample=1,\n",
        "                          #max_features='sqrt',\n",
        "                          random_state=10)\n",
        "baseline_lgbm.fit(X_train,y_train)\n",
        "predictors_lgbm=list(X_train)\n",
        "# feat_imp_lgbm = pd.Series(baseline_lgbm.feature_importances_, predictors_lgbm).sort_values(ascending=False)\n",
        "# feat_imp_lgbm.plot(kind='bar', title='Importance of Features Using LGBM')\n",
        "# plt.ylabel('Feature Importance Score')\n",
        "print('Accuracy of the LGBM on test set: {:.3f}'.format(baseline_lgbm.score(X_test, y_test)))\n",
        "pred_lgbm=baseline_lgbm.predict(X_test)\n",
        "print(classification_report(y_test, pred_lgbm))"
      ]
    },
    {
      "cell_type": "code",
      "execution_count": null,
      "metadata": {
        "id": "COknmwd46-95"
      },
      "outputs": [],
      "source": [
        "from sklearn.ensemble import RandomForestClassifier\n",
        "from sklearn.metrics import classification_report"
      ]
    },
    {
      "cell_type": "code",
      "execution_count": null,
      "metadata": {
        "id": "3b0a8Tqp7Cfv"
      },
      "outputs": [],
      "source": [
        "# Create a Random Forest Classifier\n",
        "random_forest = RandomForestClassifier(n_estimators=100, max_depth=3, random_state=10)"
      ]
    },
    {
      "cell_type": "code",
      "execution_count": null,
      "metadata": {
        "id": "HVuLMfXo7Fp0"
      },
      "outputs": [],
      "source": [
        "# Fit the model to the training data\n",
        "random_forest.fit(X_train, y_train)\n",
        "\n",
        "# Make predictions on the test set\n",
        "pred_rf = random_forest.predict(X_test)\n",
        "\n",
        "# Calculate and print the accuracy\n",
        "accuracy_rf = random_forest.score(X_test, y_test)\n",
        "print('Accuracy of the Random Forest on test set: {:.3f}'.format(accuracy_rf))\n",
        "\n",
        "# Generate and print the classification report\n",
        "print(classification_report(y_test, pred_rf))"
      ]
    },
    {
      "cell_type": "code",
      "execution_count": null,
      "metadata": {
        "id": "xViJK9gW7KGN"
      },
      "outputs": [],
      "source": [
        "import xgboost as xgb\n",
        "from sklearn.metrics import classification_report\n",
        "\n",
        "# Create an XGBoost Classifier\n",
        "xgb_classifier = xgb.XGBClassifier(\n",
        "    learning_rate=0.1,\n",
        "    n_estimators=100,\n",
        "    max_depth=3,\n",
        "    min_child_weight=1,\n",
        "    gamma=0,\n",
        "    subsample=1,\n",
        "    colsample_bytree=1,\n",
        "    objective='binary:logistic',  # For binary classification\n",
        "    random_state=10\n",
        ")\n",
        "\n",
        "# Fit the model to the training data\n",
        "xgb_classifier.fit(X_train, y_train)\n",
        "\n",
        "# Make predictions on the test set\n",
        "pred_xgb = xgb_classifier.predict(X_test)\n",
        "\n",
        "# Calculate and print the accuracy\n",
        "accuracy_xgb = xgb_classifier.score(X_test, y_test)\n",
        "print('Accuracy of XGBoost on test set: {:.3f}'.format(accuracy_xgb))\n",
        "\n",
        "# Generate and print the classification report\n",
        "print(classification_report(y_test, pred_xgb))"
      ]
    },
    {
      "cell_type": "code",
      "execution_count": null,
      "metadata": {
        "id": "QoyUPwDz7Syj"
      },
      "outputs": [],
      "source": [
        "from sklearn.ensemble import VotingClassifier\n",
        "from sklearn.ensemble import GradientBoostingClassifier, RandomForestClassifier\n",
        "from sklearn.metrics import classification_report\n",
        "\n",
        "# Define individual models\n",
        "gbm_model = GradientBoostingClassifier(\n",
        "    learning_rate=0.1,\n",
        "    n_estimators=100,\n",
        "    max_depth=3,\n",
        "    min_samples_split=2,\n",
        "    min_samples_leaf=1,\n",
        "    subsample=1,\n",
        "    max_features='sqrt',\n",
        "    random_state=10\n",
        ")\n",
        "\n",
        "rf_model = RandomForestClassifier(\n",
        "    n_estimators=100,\n",
        "    max_depth=3,\n",
        "    random_state=10\n",
        ")\n",
        "\n",
        "# Create an ensemble of models\n",
        "ensemble_model = VotingClassifier(\n",
        "    estimators=[\n",
        "        ('gbm', gbm_model),\n",
        "        ('rf', rf_model),\n",
        "        # Add more models here if desired\n",
        "    ],\n",
        "    voting='soft'  # 'soft' for weighted voting based on probabilities\n",
        ")\n",
        "\n",
        "# Fit the ensemble model on the training data\n",
        "ensemble_model.fit(X_train, y_train)\n",
        "\n",
        "# Make predictions on the test set\n",
        "pred_ensemble = ensemble_model.predict(X_test)\n",
        "\n",
        "# Calculate and print the accuracy\n",
        "accuracy_ensemble = ensemble_model.score(X_test, y_test)\n",
        "print('Accuracy of the Ensemble Model on test set: {:.3f}'.format(accuracy_ensemble))\n",
        "\n",
        "# Generate and print the classification report\n",
        "print(classification_report(y_test, pred_ensemble))"
      ]
    },
    {
      "cell_type": "code",
      "execution_count": null,
      "metadata": {
        "id": "Vv7IIViF7aqV"
      },
      "outputs": [],
      "source": [
        "from sklearn.svm import SVC\n",
        "from sklearn.metrics import classification_report\n",
        "\n",
        "# Create an SVM classifier\n",
        "svm_classifier = SVC(kernel='rbf', C=1.0, random_state=10)\n",
        "\n",
        "# Fit the SVM model to the training data\n",
        "svm_classifier.fit(X_train, y_train)\n",
        "\n",
        "# Make predictions on the test set\n",
        "pred_svm = svm_classifier.predict(X_test)\n",
        "\n",
        "# Calculate and print the accuracy\n",
        "accuracy_svm = svm_classifier.score(X_test, y_test)\n",
        "print('Accuracy of the SVM on test set: {:.3f}'.format(accuracy_svm))\n",
        "\n",
        "# Generate and print the classification report\n",
        "print(classification_report(y_test, pred_svm))"
      ]
    },
    {
      "cell_type": "code",
      "execution_count": null,
      "metadata": {
        "id": "Kao4rdOh7smc"
      },
      "outputs": [],
      "source": [
        "from sklearn.ensemble import GradientBoostingClassifier\n",
        "from sklearn.svm import SVC\n",
        "from sklearn.ensemble import VotingClassifier\n",
        "from sklearn.metrics import classification_report\n",
        "\n",
        "# Define the GBM model (you can use your existing model)\n",
        "gbm_model = GradientBoostingClassifier(\n",
        "    learning_rate=0.1,\n",
        "    n_estimators=100,\n",
        "    max_depth=3,\n",
        "    min_samples_split=2,\n",
        "    min_samples_leaf=1,\n",
        "    subsample=1,\n",
        "    max_features='sqrt',\n",
        "    random_state=10\n",
        ")\n",
        "\n",
        "# Define the SVM model\n",
        "svm_model = SVC(probability=True, random_state=10)  # Use probability=True to enable soft voting\n",
        "\n",
        "# Create an ensemble of models\n",
        "ensemble_model = VotingClassifier(\n",
        "    estimators=[\n",
        "        ('gbm', gbm_model),\n",
        "        ('svm', svm_model)\n",
        "        # Add more models here if desired\n",
        "    ],\n",
        "    voting='soft'  # 'soft' for weighted voting based on probabilities\n",
        ")\n",
        "\n",
        "# Fit the ensemble model on the training data\n",
        "ensemble_model.fit(X_train, y_train)\n",
        "\n",
        "# Make predictions on the test set\n",
        "pred_ensemble = ensemble_model.predict(X_test)\n",
        "\n",
        "# Calculate and print the accuracy\n",
        "accuracy_ensemble = ensemble_model.score(X_test, y_test)\n",
        "print('Accuracy of the Ensemble Model on test set: {:.3f}'.format(accuracy_ensemble))\n",
        "\n",
        "# Generate and print the classification report\n",
        "print(classification_report(y_test, pred_ensemble))"
      ]
    },
    {
      "cell_type": "code",
      "execution_count": null,
      "metadata": {
        "id": "RbRYezk17zcf"
      },
      "outputs": [],
      "source": []
    },
    {
      "cell_type": "markdown",
      "metadata": {
        "id": "0wph2B0C74KA"
      },
      "source": [
        "# **Tuning of Models**\n"
      ]
    },
    {
      "cell_type": "markdown",
      "metadata": {
        "id": "ROwtg1t174SQ"
      },
      "source": [
        "\n",
        "n_estimators and Learning Rate¶"
      ]
    },
    {
      "cell_type": "code",
      "execution_count": null,
      "metadata": {
        "id": "o1aGk5oD7-Jf"
      },
      "outputs": [],
      "source": [
        "p_test3 = {'learning_rate':[0.15,0.1,0.05,0.01,0.005,0.001], 'n_estimators':[50,100,250,500,750,1000,1250,1500,1750]}\n",
        "\n",
        "tuning = GridSearchCV(estimator =GradientBoostingClassifier(max_depth=4, min_samples_split=2, min_samples_leaf=1,\n",
        "                                                            subsample=1,max_features='sqrt', random_state=10),\n",
        "                                                            param_grid = p_test3, scoring='accuracy',n_jobs=4,\n",
        "                                                             cv=5)\n",
        "tuning.fit(X_train,y_train)\n",
        "tuning.best_params_, tuning.best_score_\n",
        "learning_rate_gbm = tuning.best_params_.get(\"learning_rate\")\n",
        "n_estimators_gbm = tuning.best_params_.get(\"n_estimators\")"
      ]
    },
    {
      "cell_type": "code",
      "execution_count": null,
      "metadata": {
        "id": "GMEtcLtG8EGZ"
      },
      "outputs": [],
      "source": [
        "p_test3a = {'learning_rate':[0.15,0.1,0.05,0.01,0.005,0.001], 'n_estimators':[50,100,250,500,750,1000,1250,1500,1750]}\n",
        "\n",
        "tuning = GridSearchCV(estimator =LGBMClassifier(max_depth=4, min_samples_leaf=1,\n",
        "                                                subsample=1, random_state=10),\n",
        "                                                param_grid = p_test3a, scoring='accuracy',n_jobs=4,\n",
        "                                                cv=5)\n",
        "tuning.fit(X_train,y_train)\n",
        "tuning.best_params_, tuning.best_score_\n",
        "learning_rate_lgbm = tuning.best_params_.get(\"learning_rate\")\n",
        "n_estimators_lgbm = tuning.best_params_.get(\"n_estimators\")"
      ]
    },
    {
      "cell_type": "markdown",
      "metadata": {
        "id": "5SjYD1tkBHhz"
      },
      "source": [
        "Max depth"
      ]
    },
    {
      "cell_type": "code",
      "execution_count": null,
      "metadata": {
        "id": "h35WT2An_XgH"
      },
      "outputs": [],
      "source": [
        "p_test2 = {'max_depth':[2,3,4,5,6,7] }\n",
        "tuning = GridSearchCV(estimator =GradientBoostingClassifier(learning_rate=learning_rate_gbm,n_estimators=n_estimators_gbm,\n",
        "                                                            min_samples_split=2,\n",
        "                                                            min_samples_leaf=1, subsample=1,max_features='sqrt',\n",
        "                                                            random_state=10),\n",
        "                                                            param_grid = p_test2, scoring='accuracy',n_jobs=4,\n",
        "                                                            cv=5)\n",
        "tuning.fit(X_train,y_train)\n",
        "tuning.best_params_, tuning.best_score_\n",
        "max_depth_gbm = tuning.best_params_.get(\"max_depth\")"
      ]
    },
    {
      "cell_type": "code",
      "execution_count": null,
      "metadata": {
        "id": "Aucu5g2k_jkY"
      },
      "outputs": [],
      "source": [
        "p_test2a = {'max_depth':[2,3,4,5,6,7] }\n",
        "tuning = GridSearchCV(estimator =LGBMClassifier(learning_rate=learning_rate_lgbm,n_estimators=n_estimators_lgbm,\n",
        "                                                min_samples_leaf=1, subsample=1, random_state=10),\n",
        "                                                param_grid = p_test2, scoring='accuracy',n_jobs=4,\n",
        "                                                cv=5)\n",
        "tuning.fit(X_train,y_train)\n",
        "tuning.best_params_, tuning.best_score_\n",
        "max_depth_lgbm = tuning.best_params_.get(\"max_depth\")"
      ]
    },
    {
      "cell_type": "code",
      "execution_count": null,
      "metadata": {
        "id": "nQcyeyfzARUl"
      },
      "outputs": [],
      "source": []
    },
    {
      "cell_type": "markdown",
      "metadata": {
        "id": "-QRQlWsLAn71"
      },
      "source": [
        "First Evaluation of New Model on Test Se"
      ]
    },
    {
      "cell_type": "code",
      "execution_count": null,
      "metadata": {
        "id": "HC3ZaidTAodE"
      },
      "outputs": [],
      "source": [
        "model1 = GradientBoostingClassifier(learning_rate=learning_rate_gbm, n_estimators=n_estimators_gbm,max_depth=max_depth_gbm,\n",
        "                                    min_samples_split=2,\n",
        "                                    min_samples_leaf=1, subsample=1,max_features='sqrt', random_state=10)\n",
        "model1.fit(X_train,y_train)\n",
        "predictors=list(X_train)\n",
        "# feat_imp = pd.Series(model1.feature_importances_, predictors).sort_values(ascending=False)\n",
        "# feat_imp.plot(kind='bar', title='Importance of Features')\n",
        "# plt.ylabel('Feature Importance Score')\n",
        "print('Accuracy of the GBM on test set: {:.3f}'.format(model1.score(X_test, y_test)))\n",
        "pred=model1.predict(X_test)\n",
        "print(classification_report(y_test, pred))"
      ]
    },
    {
      "cell_type": "code",
      "execution_count": null,
      "metadata": {
        "id": "vT-bSB5UAqIc"
      },
      "outputs": [],
      "source": [
        "model1_lgbm = LGBMClassifier(learning_rate=learning_rate_lgbm, n_estimators=n_estimators_lgbm,max_depth=max_depth_lgbm,\n",
        "                             min_samples_leaf=1, subsample=1, random_state=10)\n",
        "model1_lgbm.fit(X_train,y_train)\n",
        "predictors=list(X_train)\n",
        "# feat_imp = pd.Series(model1_lgbm.feature_importances_, predictors).sort_values(ascending=False)\n",
        "# feat_imp.plot(kind='bar', title='Importance of Features')\n",
        "# plt.ylabel('Feature Importance Score')\n",
        "print('Accuracy of the LGBM on test set: {:.3f}'.format(model1_lgbm.score(X_test, y_test)))\n",
        "pred=model1_lgbm.predict(X_test)\n",
        "print(classification_report(y_test, pred))"
      ]
    },
    {
      "cell_type": "markdown",
      "metadata": {
        "id": "o3nAlNflBgPc"
      },
      "source": [
        "## **Min Sample Split and Min Samples Leaf**"
      ]
    },
    {
      "cell_type": "code",
      "execution_count": null,
      "metadata": {
        "colab": {
          "background_save": true
        },
        "id": "tfeOeXBIAsJ5"
      },
      "outputs": [],
      "source": [
        "p_test4 = {'min_samples_split':[2,4,6,8,10,20,40,60,100], 'min_samples_leaf':[1,3,5,7,9]}\n",
        "\n",
        "tuning = GridSearchCV(estimator =GradientBoostingClassifier(learning_rate=learning_rate_gbm, n_estimators=n_estimators_gbm,\n",
        "                                                            max_depth=max_depth_gbm,\n",
        "                                                            subsample=1,max_features='sqrt', random_state=10),\n",
        "                                                            param_grid = p_test4, scoring='accuracy',n_jobs=4,\n",
        "                                                            cv=5)\n",
        "tuning.fit(X_train,y_train)\n",
        "tuning.best_params_, tuning.best_score_\n",
        "min_samples_leaf_gbm = tuning.best_params_.get(\"min_samples_leaf\")"
      ]
    },
    {
      "cell_type": "code",
      "execution_count": null,
      "metadata": {
        "colab": {
          "background_save": true
        },
        "id": "qqhBv1dmBj5w"
      },
      "outputs": [],
      "source": [
        "p_test4a = {'min_samples_leaf':[1,3,5,7,9]}\n",
        "\n",
        "tuning = GridSearchCV(estimator =LGBMClassifier(learning_rate=learning_rate_lgbm, n_estimators=n_estimators_lgbm,\n",
        "                                                max_depth=max_depth_lgbm,\n",
        "                                                subsample=1, random_state=10),\n",
        "                                                param_grid = p_test4a, scoring='accuracy',n_jobs=4,\n",
        "                                                cv=5)\n",
        "tuning.fit(X_train,y_train)\n",
        "tuning.best_params_, tuning.best_score_\n",
        "min_samples_leaf_lgbm = tuning.best_params_.get(\"min_samples_leaf\")"
      ]
    },
    {
      "cell_type": "markdown",
      "metadata": {
        "id": "bzhEC8tkB6Sr"
      },
      "source": [
        "Max Features"
      ]
    },
    {
      "cell_type": "code",
      "execution_count": null,
      "metadata": {
        "id": "mTIy5r--B6vp"
      },
      "outputs": [],
      "source": [
        "p_test5 = {'max_features':[2,3,4,5,6,7]}\n",
        "tuning = GridSearchCV(estimator =GradientBoostingClassifier(learning_rate=learning_rate_gbm, n_estimators=n_estimators_gbm,\n",
        "                                                            max_depth=max_depth_gbm,\n",
        "                                                            min_samples_split=20, min_samples_leaf=min_samples_leaf_gbm,\n",
        "                                                            subsample=1,\n",
        "                                                            random_state=10), param_grid = p_test5, scoring='accuracy',\n",
        "                                                            n_jobs=4, cv=5)\n",
        "tuning.fit(X_train,y_train)\n",
        "tuning.best_params_, tuning.best_score_\n",
        "max_features_gbm = tuning.best_params_.get(\"max_features\")"
      ]
    },
    {
      "cell_type": "markdown",
      "metadata": {
        "id": "2d3sUw3xCADU"
      },
      "source": [
        "Subsample"
      ]
    },
    {
      "cell_type": "code",
      "execution_count": null,
      "metadata": {
        "id": "feBMVXElCB7N"
      },
      "outputs": [],
      "source": [
        "p_test6= {'subsample':[0.7,0.75,0.8,0.85,0.9,0.95,1]}\n",
        "\n",
        "tuning = GridSearchCV(estimator =GradientBoostingClassifier(learning_rate=learning_rate_gbm, n_estimators=n_estimators_gbm,\n",
        "                                                            max_depth=max_depth_gbm,\n",
        "                                                            min_samples_split=20, min_samples_leaf=min_samples_leaf_gbm,\n",
        "                                                            max_features=max_features_gbm ,\n",
        "                                                            random_state=10), param_grid = p_test6, scoring='accuracy',\n",
        "                                                            n_jobs=4, cv=5)\n",
        "tuning.fit(X_train,y_train)\n",
        "tuning.best_params_, tuning.best_score_\n",
        "subsample_gbm = tuning.best_params_.get(\"subsample\")"
      ]
    },
    {
      "cell_type": "code",
      "execution_count": null,
      "metadata": {
        "colab": {
          "background_save": true
        },
        "id": "UdBV22LiCFKo"
      },
      "outputs": [],
      "source": [
        "p_test6a= {'subsample':[0.7,0.75,0.8,0.85,0.9,0.95,1]}\n",
        "\n",
        "tuning = GridSearchCV(estimator =LGBMClassifier(learning_rate=learning_rate_lgbm, n_estimators=n_estimators_lgbm,\n",
        "                                                max_depth=max_depth_lgbm,\n",
        "                                                min_samples_leaf=min_samples_leaf_lgbm,\n",
        "                                                random_state=10), param_grid = p_test6, scoring='accuracy',\n",
        "                                                n_jobs=4,iid=False, cv=5)\n",
        "tuning.fit(X_train,y_train)\n",
        "tuning.best_params_, tuning.best_score_\n",
        "subsample_lgbm = tuning.best_params_.get(\"subsample\")"
      ]
    },
    {
      "cell_type": "code",
      "execution_count": null,
      "metadata": {
        "id": "bEbQsovICwqp"
      },
      "outputs": [],
      "source": []
    }
  ],
  "metadata": {
    "colab": {
      "provenance": [],
      "authorship_tag": "ABX9TyMuaoupNhUocjiHJvBkmGH0",
      "include_colab_link": true
    },
    "kernelspec": {
      "display_name": "Python 3",
      "name": "python3"
    },
    "language_info": {
      "name": "python"
    }
  },
  "nbformat": 4,
  "nbformat_minor": 0
}